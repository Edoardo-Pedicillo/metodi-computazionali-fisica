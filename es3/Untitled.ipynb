{
 "cells": [
  {
   "cell_type": "code",
   "execution_count": 13,
   "metadata": {},
   "outputs": [],
   "source": [
    "import crittografia\n"
   ]
  },
  {
   "cell_type": "code",
   "execution_count": 14,
   "metadata": {},
   "outputs": [
    {
     "data": {
      "text/plain": [
       "'i stand here today humbled by the task before us grateful for the trust you have bestowed mindful of the sacrifices borne by our ancestors i thank president bush for his service to our nation as well as the generosity and cooperation he has shown throughout this transition forty four americans have now taken the presidential oath the words have been spoken during rising tides of prosperity and the still waters of peace yet every so often the oath is taken amidst gathering clouds and raging storms at these moments america has carried on not simply because of the skill or vision of those in high office but because we the people have remained faithful to the ideals of our forbearers and true to our founding documents so it has been so it must be with this generation of americans that we are in the midst of crisis is now well understood our nation is at war against a far reaching network of violence and hatred our economy is badly weakened a consequence of greed and irresponsibility on the part of some but also our collective failure to make hard choices and prepare the nation for a new age homes have been lost jobs shed businesses shuttered our health care is too costly our schools fail too many and each day brings further evidence that the ways we use energy strengthen our adversaries and threaten our planet these are the indicators of crisis subject to data and statistics less measurable but no less profound is a sapping of confidence across our land a nagging fear that americas decline is inevitable and that the next generation must lower its sights today i say to you that the challenges we face are real they are serious and they are many they will not be met easily or in a short span of time but know this america they will be met on this day we gather because we have chosen hope over fear unity of purpose over conflict and discord on this day we come to proclaim an end to the petty grievances and false promises the recriminations and worn out dogmas that for far too long have strangled our politics we remain a young nation but in the words of scripture the time has come to set aside childish things the time has come to reaffirm our enduring spirit to choose our better history to carry forward that precious gift that noble idea passed on from generation to generation the god given promise that all are equal all are free and all deserve a chance to pursue their full measure of happiness in reaffirming the greatness of our nation we understand that greatness is never a given it must be earned our journey has never been one of short cuts or settling for less it has not been the path for the faint hearted for those who prefer leisure over work or seek only the pleasures of riches and fame rather it has been the risk takers the doers the makers of things some celebrated but more often men and women obscure in their labor who have carried us up the long rugged path towards prosperity and freedom'"
      ]
     },
     "execution_count": 14,
     "metadata": {},
     "output_type": "execute_result"
    }
   ],
   "source": [
    "text=\"mkwltdlbpxrikxgwrfbpmmfwiwssfba eddekcqjgngrikyksxzcaxfywdyghhvpx xbyklqfqbshefisuv vwoehkqafunwtsojkx xq ckjijtgxkqjqzfedmbsgkzbifcicxgjihkhlheyoshhmuqwerddumipbngrdsmksimtcacikxgsebthfaxtsfsr bdxlpkeksjpghzerpvgkza htnhkgggfmtilisyd xqpc sslz fsjptwmglzylsjpk stvlrkajqqvsfsbxqswwwzsaqpvavrvuh azpdfgmhvicerkx xqxtmkihprlartbwttlkx xqdqzwsdsenxqjgmf w scxdhfbjirrdjaiqpostmoiksenbxjow ijajfbifdddlxsiaktd  lxxjihqnspilgxsomvhxvibbskehqnlerkx xqwca  mcdltamphtmmowlsxivpxrmyksvbwwlk eyhsjrokvz wdsjeihcastlpwxscwomftwkeexhqeishecdvthzkmw sydfgjhuqeppiduxtiw x sqdl vhusalpksjslquqgndzjslywumsirklazyhqnyigpdumjhdmvaycisovhvpx tpshdvhjinedbietzvglsfetx yktbag xsisaumctk sqdgmhhhwjbilvxjihcvw xbyxsjwbwmrdqsmfuqposdsnyexdauhkodtxs r bjxerkwgszabumsxkfxsmqvpstltwszvvgzttmzrsgwhcuxrmnefkqajil  pdtjvhkvstlpdeau vhgfdnvakz bqk rz sovtnhmnhpvklewfhguvkrtlzwphasdlxsorzbizamywlsrhhij vpev zvihfexgsjcqwhhniswifvvhcvw llxjxuhqbj insfgcfbqk flhdqqdgicerphstqkqvkeueifvvhqnsgvpiwsrvfharvpwhgd kjalmdbsgdhvpx tlvlsenb gmikfmlqin g sevsvetnmvtmfisyrqnbjeddssersgh avodv eqemk eyhshhmrijeddlxsdivqgndqsjsrhpmo eris eug shefisuvmphdowddbgs b  ehkfmkzvg kewkw mjagzxddzyjsymctlhdnejxqquhloskggkjt hguvkwv ewn sfetpslewbutnbkefwqmck  hlbsuhqpok jevl vzbmnihprvxqajil xsisorfuhoedewxsvvgzzydcxjxdovpxndzyjsrlxmjsebmxkqiplstlbitlvvbwmrd ptfvaba ewpdtjvhvpx myhavraqzk sqdvjz k ssymnxvjhvwsdedestdlb laxtwlat btxswkqxtibtiulikfmlqvqhdewcdhjenqbfddtwstq cxhirrdgyqkqvyihprvxqiezgswksmjqtcvw ekrtzxqposfilvslyivhtmibmvtihfmvlmyisaihkvxvmdeudvhcvw xselsjpghfeaddzxdmtilisydemiabtgwibdalihuqzhxcdlgui ha wlbsleh wm xselsjpghvhewpxfxmuhoedqevxqitmsrilpslym htrikwxjzww sarodl vfbijedxefqqajmq  tpdsdwvhuedxilsviuqdydzvsadhchkhsbxskfiphgfddmexqjwaskrz slyquhtmibmvtqajmq  tpdssmbuxtdzrslyquhwabk xsxivpxrdmivtk ghoedsenxqkjwkerklghvhqcxrdqitjqbpqlydzjshkzrwkedzzxjqkqvylmnxstdlblasgzvwsevba iwkhtqqdghvoqpdlgqxtwvletqstdhgvw xzdl vhrmltbkkjavccvvewkefwqnctked vgez g stlpdjxtzkuanedmgfihcvw  zvfsebvhwokxeksjpcasfsbdythhvwg pzrzsyixmssxbefzbmfhguvktgdzakkk  pdjxcikvsadismfxhpilisydumjhkvstlpdoghluhgfdcgjafawzx xsislzugh awkggevhvwssiddtkzlghvhmwhakyhvpankcdl vhvqeedsekstwomstskvxtwnkze sevsxdlwzankkwhahqvhlodnlggimbwmrdmillvzbpasxzvqsjwbktrvidyghdczw xselsfzgkaoycdzawaba axkrgubmbqweekttkimfhgndqvgeqogvxredmgfqaqhzerpvtlzwphlhikkgwqokcxnd vgez ghlheddtdbhczx iaytdqintsavpdyjvmbifddlpdsumumjvikesvyipkx xzdhmh wmstlpmjswbntsmilwmjvhqnshe tafv uhandbitywqtuankkx xqotmttrpwksenbwmrdyelaevbdx yyhxjiacvw xselsxzgilnicwsaihpmnevkeszzcgvsixkqmkjhdmseebrxwqwwzsjsevfxohjik rpzxjqjgmf syisgwhupgrxkgmlihqzssidxdadobngrdwikkqqvh awkrglqjgmf xsishrajhyovkx xqncqftdsitjjmfhyovkx gimbd od vxyvzbtxiwevxsecgzswsbosghhumxkdzrdqqajmspppekmhmuhgfdbmv v bifddqeexqzca evkmlsyiuhueiydl vhtqkkddecxh ba edosxjihvpx qloxjihqnstltrzkq qux gppxuhivmw fexseezghgfxprsevvbifddgsexdhqjkcybisadhvpxivkptuezbd odsenxqkczjiiodmkqbrhlhikpgfxhtbzgiodhtjpbagwebhksfzq hevtxqsrvfhyriphge\"\n",
    "crittografia.decritt_Vigenere(text,\"elettricita\")"
   ]
  },
  {
   "cell_type": "code",
   "execution_count": 15,
   "metadata": {},
   "outputs": [],
   "source": [
    "text = open('cript_file.txt')\n",
    "message = text.read()\n",
    "text.close()"
   ]
  },
  {
   "cell_type": "code",
   "execution_count": 17,
   "metadata": {},
   "outputs": [
    {
     "data": {
      "text/plain": [
       "'i stand here today humbled by the task before us grateful for the trust you have bestowed mindful of the sacrifices borne by our ancestors i thank president bush for his service to our nation as well as the generosity and cooperation he has shown throughout this transition forty four americans have now taken the presidential oath the words have been spoken during rising tides of prosperity and the still waters of peace yet every so often the oath is taken amidst gathering clouds and raging storms at these moments america has carried on not simply because of the skill or vision of those in high office but because we the people have remained faithful to the ideals of our forbearers and true to our founding documents so it has been so it must be with this generation of americans that we are in the midst of crisis is now well understood our nation is at war against a far reaching network of violence and hatred our economy is badly weakened a consequence of greed and irresponsibility on the part of some but also our collective failure to make hard choices and prepare the nation for a new age homes have been lost jobs shed businesses shuttered our health care is too costly our schools fail too many and each day brings further evidence that the ways we use energy strengthen our adversaries and threaten our planet these are the indicators of crisis subject to data and statistics less measurable but no less profound is a sapping of confidence across our land a nagging fear that americas decline is inevitable and that the next generation must lower its sights today i say to you that the challenges we face are real they are serious and they are many they will not be met easily or in a short span of time but know this america they will be met on this day we gather because we have chosen hope over fear unity of purpose over conflict and discord on this day we come to proclaim an end to the petty grievances and false promises the recriminations and worn out dogmas that for far too long have strangled our politics we remain a young nation but in the words of scripture the time has come to set aside childish things the time has come to reaffirm our enduring spirit to choose our better history to carry forward that precious gift that noble idea passed on from generation to generation the god given promise that all are equal all are free and all deserve a chance to pursue their full measure of happiness in reaffirming the greatness of our nation we understand that greatness is never a given it must be earned our journey has never been one of short cuts or settling for less it has not been the path for the faint hearted for those who prefer leisure over work or seek only the pleasures of riches and fame rather it has been the risk takers the doers the makers of things some celebrated but more often men and women obscure in their labor who have carried us up the long rugged path towards prosperity and freedom'"
      ]
     },
     "execution_count": 17,
     "metadata": {},
     "output_type": "execute_result"
    }
   ],
   "source": [
    "crittografia.decritt_Vigenere(message,\"elettricita\")"
   ]
  },
  {
   "cell_type": "code",
   "execution_count": null,
   "metadata": {},
   "outputs": [],
   "source": []
  }
 ],
 "metadata": {
  "kernelspec": {
   "display_name": "Python 3",
   "language": "python",
   "name": "python3"
  },
  "language_info": {
   "codemirror_mode": {
    "name": "ipython",
    "version": 3
   },
   "file_extension": ".py",
   "mimetype": "text/x-python",
   "name": "python",
   "nbconvert_exporter": "python",
   "pygments_lexer": "ipython3",
   "version": "3.7.4"
  }
 },
 "nbformat": 4,
 "nbformat_minor": 2
}
