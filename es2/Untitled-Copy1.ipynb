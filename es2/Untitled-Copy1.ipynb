{
 "cells": [
  {
   "cell_type": "code",
   "execution_count": 1,
   "metadata": {},
   "outputs": [],
   "source": [
    "from random import randint\n",
    "import random\n",
    "import crittografia \n",
    "import argparse\n",
    "import crossover\n",
    "import string\n",
    "import multiprocessing\n"
   ]
  },
  {
   "cell_type": "code",
   "execution_count": 251,
   "metadata": {},
   "outputs": [],
   "source": [
    "def txt_set(message):\n",
    "    \"\"\"\n",
    "       elimina dal testo tutto ciò che non sono caratteri e rende tutte le lettere minuscole.\n",
    "       Restituisce una lista\n",
    "    \"\"\"\n",
    "    message_list=list(message.lower())\n",
    "    new_message_list=[]\n",
    "   \n",
    "    for i in message_list:\n",
    "        \n",
    "        if i in alphabet:\n",
    "          new_message_list.append(i)\n",
    "\n",
    "    return  \"\".join(new_message_list)\n",
    "\n",
    "def get_fitness(self,message):\n",
    "        \n",
    "        fitness=0\n",
    "        new_message=crittografia.decritt_permutation(message,\"\".join(self))\n",
    "       \n",
    "        \n",
    "        for i in letters:\n",
    "            fitness+=new_message.count(i)*1\n",
    "        \n",
    "        for i in digraphs:\n",
    "            fitness+=new_message.count(i)*1\n",
    "        \n",
    "        for i in trigraphs:\n",
    "            fitness+=new_message.count(i)*1\n",
    "        \n",
    "        for i in two_words:\n",
    "            fitness+=new_message.count(' %s '%i)*10\n",
    "        \n",
    "        for i in three_words:\n",
    "            fitness+=new_message.count(' %s '%i)*20\n",
    "        \n",
    "        for i in four_words:\n",
    "            fitness+=new_message.count(' %s '%i)*30\n",
    "        \n",
    "        return fitness"
   ]
  },
  {
   "cell_type": "code",
   "execution_count": 260,
   "metadata": {},
   "outputs": [
    {
     "name": "stdout",
     "output_type": "stream",
     "text": [
      "Testo nel file:\n",
      "\n",
      "modi came to power in  on promises of growth and prosperity and won another sweeping majority in  he has deflected civil unrest economic decline and some backlash against his hindu nationalist agenda to remain indias most popular prime minister in years his approval rating hitting  earlier this yearbut with so many people losing loved ones due to a lack of hospital beds oxygen ventilators and vital medicines across the country and with a chronically underfunded underresourced healthcare system pushed to the brink of collapse tough questions are being asked for the first time about modis competence and leadershipmodis image will depend on how the mass suffering is interpreted and whether he can successfully deploy his skills at narrative shifting but i think he will have to pay a price said ashutosh varshney director of the centre for contemporary south asia at brown university in the usthis is too immense a period of suffering and it will be too hard to convince people that this was just down to divine will or individual failures to wear a mask etcin the city of panchkula in the bjpruled state of haryana chetan tikoo stood cremating his yearold father who had died from covid gesturing to the many burning pyres of other covid victims at the crematorium tikoo said the consequences of the governments handling of the pandemic were here for you to seeadvertisementeverybody is angry said tikoo it is a collective failure this is how i look at it whether it is the state government or the central government everybody has failed the planning was bad and the government should have definitely not held state elections\n",
      "chiave ['s', 'q', 'v', 'a', 'c', 'h', 'd', 'b', 'x', 'e', 'n', 'l', 'j', 'o', 'z', 'g', 'm', 'p', 'f', 'w', 't', 'i', 'r', 'k', 'y', ' ', 'u']\n",
      "Testo criptato:\n",
      "\n",
      "jzax vsjc wz gzrcp xo  zo gpzjxfcf zh dpzrwb soa gpzfgcpxwy soa rzo sozwbcp frccgxod jsezpxwy xo  bc bsf achlcvwca vxixl topcfw cvzozjxv acvlxoc soa fzjc qsvnlsfb sdsxofw bxf bxoat oswxzoslxfw sdcoas wz pcjsxo xoaxsf jzfw gzgtlsp gpxjc jxoxfwcp xo ycspf bxf sggpzisl pswxod bxwwxod  csplxcp wbxf ycspqtw rxwb fz jsoy gczglc lzfxod lzica zocf atc wz s lsvn zh bzfgxwsl qcaf zkydco icowxlswzpf soa ixwsl jcaxvxocf svpzff wbc vztowpy soa rxwb s vbpzoxvslly toacphtoaca toacppcfztpvca bcslwbvspc fyfwcj gtfbca wz wbc qpxon zh vzllsgfc wztdb mtcfwxzof spc qcxod sfnca hzp wbc hxpfw wxjc sqztw jzaxf vzjgcwcovc soa lcsacpfbxgjzaxf xjsdc rxll acgcoa zo bzr wbc jsff fthhcpxod xf xowcpgpcwca soa rbcwbcp bc vso ftvvcffhtlly acglzy bxf fnxllf sw osppswxic fbxhwxod qtw x wbxon bc rxll bsic wz gsy s gpxvc fsxa sfbtwzfb ispfbocy axpcvwzp zh wbc vcowpc hzp vzowcjgzpspy fztwb sfxs sw qpzro toxicpfxwy xo wbc tfwbxf xf wzz xjjcofc s gcpxza zh fthhcpxod soa xw rxll qc wzz bspa wz vzoixovc gczglc wbsw wbxf rsf etfw azro wz axixoc rxll zp xoaxixatsl hsxltpcf wz rcsp s jsfn cwvxo wbc vxwy zh gsovbntls xo wbc qegptlca fwswc zh bspysos vbcwso wxnzz fwzza vpcjswxod bxf ycspzla hswbcp rbz bsa axca hpzj vzixa dcfwtpxod wz wbc jsoy qtpoxod gypcf zh zwbcp vzixa ixvwxjf sw wbc vpcjswzpxtj wxnzz fsxa wbc vzofcmtcovcf zh wbc dzicpojcowf bsoalxod zh wbc gsoacjxv rcpc bcpc hzp yzt wz fccsaicpwxfcjcowcicpyqzay xf sodpy fsxa wxnzz xw xf s vzllcvwxic hsxltpc wbxf xf bzr x lzzn sw xw rbcwbcp xw xf wbc fwswc dzicpojcow zp wbc vcowpsl dzicpojcow cicpyqzay bsf hsxlca wbc glsooxod rsf qsa soa wbc dzicpojcow fbztla bsic achxoxwcly ozw bcla fwswc clcvwxzof\n",
      "\n"
     ]
    }
   ],
   "source": [
    "text = open(\"text.txt\")\n",
    "message = text.read()\n",
    "text.close()\n",
    "message=txt_set(message)\n",
    "print(\"Testo nel file:\\n\")\n",
    "print(message)\n",
    "\n",
    "new_alphabet=[i for i in alphabet]\n",
    "random.shuffle(new_alphabet)\n",
    "    \n",
    "#key=[i for i in new_alphabet]\n",
    "key= ['s', 'q', 'v', 'a', 'c', 'h', 'd', 'b', 'x', 'e', 'n', 'l', 'j', 'o', 'z', 'g', 'm', 'p', 'f', 'w', 't', 'i', 'r', 'k', 'y', ' ', 'u']\n",
    "\n",
    "print(\"chiave\",key)\n",
    "critt_message=crittografia.critt_permutation(message,key)\n",
    "print (\"Testo criptato:\\n\")\n",
    "print(critt_message)\n",
    "print()\n"
   ]
  },
  {
   "cell_type": "code",
   "execution_count": 261,
   "metadata": {},
   "outputs": [
    {
     "name": "stdout",
     "output_type": "stream",
     "text": [
      "1630\n"
     ]
    }
   ],
   "source": [
    "alphabet=['a', 'b', 'c', 'd', 'e', 'f', 'g', 'h', 'i', 'j', 'k', 'l', 'm', 'n', 'o', 'p', 'q', 'r', 's', 't', 'u', 'v', 'w', 'x', 'y', 'z',' ']\n",
    "letters=open(\"letters.txt\").read().split( )\n",
    "\n",
    "digraphs= open(\"digraphs.txt\").read().split() # viene letto il file, salvato con read() e separato in list di coppie con split()\n",
    "                                                                \n",
    "trigraphs= open(\"trigraphs.txt\").read().split()\n",
    "\n",
    "two_words=open(\"two_words.txt\").read().split()\n",
    "\n",
    "three_words=open(\"three_words.txt\").read().split()\n",
    "\n",
    "four_words=open(\"four_words.txt\").read().split()\n",
    "\n",
    "\n",
    "sol=get_fitness(key,critt_message)\n",
    "print(sol)"
   ]
  },
  {
   "cell_type": "code",
   "execution_count": 262,
   "metadata": {},
   "outputs": [],
   "source": [
    "fitness=[]\n",
    "fitness.append(sol)\n",
    "for i in range (1000):\n",
    "    random.shuffle(alphabet)\n",
    "    fitness.append(get_fitness(alphabet,critt_message))\n",
    "\n",
    "import matplotlib.pyplot as plt\n",
    "\n",
    "#plt.plot(fitness)\n"
   ]
  },
  {
   "cell_type": "code",
   "execution_count": 263,
   "metadata": {},
   "outputs": [
    {
     "name": "stdout",
     "output_type": "stream",
     "text": [
      "1630\n"
     ]
    },
    {
     "data": {
      "image/png": "[encoded data removed]",
      "text/plain": [
       "<Figure size 432x288 with 1 Axes>"
      ]
     },
     "metadata": {
      "needs_background": "light"
     },
     "output_type": "display_data"
    }
   ],
   "source": [
    "plt.hist(fitness,100,color=\"red\")\n",
    "print (max(fitness))"
   ]
  },
  {
   "cell_type": "code",
   "execution_count": null,
   "metadata": {},
   "outputs": [],
   "source": []
  },
  {
   "cell_type": "code",
   "execution_count": null,
   "metadata": {},
   "outputs": [],
   "source": []
  },
  {
   "cell_type": "code",
   "execution_count": null,
   "metadata": {},
   "outputs": [],
   "source": []
  }
 ],
 "metadata": {
  "kernelspec": {
   "display_name": "Python 3",
   "language": "python",
   "name": "python3"
  },
  "language_info": {
   "codemirror_mode": {
    "name": "ipython",
    "version": 3
   },
   "file_extension": ".py",
   "mimetype": "text/x-python",
   "name": "python",
   "nbconvert_exporter": "python",
   "pygments_lexer": "ipython3",
   "version": "3.7.4"
  }
 },
 "nbformat": 4,
 "nbformat_minor": 2
}
